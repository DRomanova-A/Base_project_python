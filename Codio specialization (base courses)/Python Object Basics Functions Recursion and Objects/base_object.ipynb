{
 "cells": [
  {
   "cell_type": "code",
   "execution_count": 1,
   "metadata": {},
   "outputs": [],
   "source": [
    "def avg(n1, n2):\n",
    "    \"\"\"Return average of two numbers\n",
    "    Return a message is a non-number is passed\"\"\"\n",
    "    try:\n",
    "      return(n1 + n2) / 2\n",
    "    except TypeError:\n",
    "      return(\"Please use two numbers as parameters\")"
   ]
  },
  {
   "cell_type": "code",
   "execution_count": 2,
   "metadata": {},
   "outputs": [],
   "source": [
    "def odds_or_evens(my_bool, nums):\n",
    "    \"\"\"Returns all of the odd or\n",
    "    even numbers from a list\"\"\"\n",
    "    return_list = []\n",
    "    for num in nums:\n",
    "      if my_bool:\n",
    "          if num % 2 == 0:\n",
    "              return_list.append(num)\n",
    "      else:\n",
    "          if num % 2 != 0:\n",
    "              return_list.append(num)\n",
    "                \n",
    "    return return_list"
   ]
  },
  {
   "cell_type": "code",
   "execution_count": 3,
   "metadata": {},
   "outputs": [],
   "source": [
    "def search_list(lst, term):\n",
    "    \"\"\"Search for item in a list\n",
    "    Return the index if found\n",
    "    Return -1 if not found\"\"\"\n",
    "    for item in lst:\n",
    "        if item.lower() == term.lower():\n",
    "            return lst.index(item)\n",
    "    return -1"
   ]
  },
  {
   "cell_type": "code",
   "execution_count": null,
   "metadata": {},
   "outputs": [],
   "source": [
    "import csv\n",
    "\n",
    "mlb_data = \"student_folder/.exercises/mlb_data.csv\"\n",
    "\n",
    "def best_team(file):\n",
    "    \"\"\"Read a CSV of baseball data.\n",
    "    Return the team name with the most wins\"\"\"\n",
    "    with open(file, \"r\") as csv_file:\n",
    "        reader = csv.reader(csv_file)\n",
    "        next(reader)\n",
    "        most_wins = 0\n",
    "        best_team = \"\"\n",
    "        for row in reader:\n",
    "            if int(row[3]) > most_wins:\n",
    "                most_wins = int(row[3])\n",
    "                best_team = row[0]\n",
    "        return best_team"
   ]
  },
  {
   "cell_type": "code",
   "execution_count": null,
   "metadata": {},
   "outputs": [],
   "source": [
    "def is_palindrome(string):\n",
    "    reversed_string= \"\"\n",
    "    position = len(string) - 1\n",
    "    while position >= 0:\n",
    "        reversed_string += string[position]\n",
    "        position -= 1\n",
    "    if string == reversed_string:\n",
    "        return True\n",
    "    else:\n",
    "        return False"
   ]
  },
  {
   "cell_type": "code",
   "execution_count": null,
   "metadata": {},
   "outputs": [],
   "source": []
  },
  {
   "cell_type": "code",
   "execution_count": null,
   "metadata": {},
   "outputs": [],
   "source": [
    "def recursive_sum(num):\n",
    "    \"\"\"Recursively calculate sum from 0 to the parameter\"\"\"\n",
    "    if num == 0:\n",
    "        return 0\n",
    "    else:\n",
    "        return num + recursive_sum(num - 1)\n",
    "        \n",
    "print(recursive_sum(17))"
   ]
  },
  {
   "cell_type": "code",
   "execution_count": null,
   "metadata": {},
   "outputs": [],
   "source": [
    "def list_sum(my_list):\n",
    "    \"\"\"Recursively calculate the sum of a list of numbers\"\"\"\n",
    "    if len(my_list) == 1:\n",
    "        return my_list[0]\n",
    "    else:\n",
    "        return my_list[0] + list_sum(my_list[1:])"
   ]
  },
  {
   "cell_type": "code",
   "execution_count": null,
   "metadata": {},
   "outputs": [],
   "source": [
    "def bunny_ears(bunnies):\n",
    "    \"\"\"Recursively determine the number of bunny ears (2 per bunny)\"\"\"\n",
    "    if bunnies == 0:\n",
    "        return 0\n",
    "    else:\n",
    "        return 2 + bunny_ears(bunnies - 1)"
   ]
  },
  {
   "cell_type": "code",
   "execution_count": null,
   "metadata": {},
   "outputs": [],
   "source": [
    "def reverse_string(word):\n",
    "    if len(word) == 1:\n",
    "        return word[0]\n",
    "    else:\n",
    "        return word[-1] + reverse_string(word[:-1])"
   ]
  },
  {
   "cell_type": "code",
   "execution_count": null,
   "metadata": {},
   "outputs": [],
   "source": [
    "def get_max(nums):\n",
    "    if len(nums) == 1:\n",
    "        return nums[0]\n",
    "    else:\n",
    "        return max(nums[0], get_max(nums[1:]))"
   ]
  },
  {
   "cell_type": "code",
   "execution_count": null,
   "metadata": {},
   "outputs": [],
   "source": []
  },
  {
   "cell_type": "code",
   "execution_count": null,
   "metadata": {},
   "outputs": [],
   "source": [
    "class PracticeClass:\n",
    "  pass"
   ]
  },
  {
   "cell_type": "code",
   "execution_count": null,
   "metadata": {},
   "outputs": [],
   "source": [
    "class Cat:\n",
    "  def __init__(self):\n",
    "    self.breed = \"american shorthair\"\n",
    "    self.color= \"black\"\n",
    "    self.name = \"kiwi\""
   ]
  },
  {
   "cell_type": "code",
   "execution_count": null,
   "metadata": {},
   "outputs": [],
   "source": [
    "class SuperHero:\n",
    "  def __init__(self, name, secret_identity, powers):\n",
    "    self.name = name\n",
    "    self.secret_identity = secret_identity\n",
    "    self.powers = powers"
   ]
  },
  {
   "cell_type": "code",
   "execution_count": null,
   "metadata": {},
   "outputs": [],
   "source": [
    "class Observation:\n",
    "  def __init__(self, date, temperature, elevation, penguins, precipitation=0):\n",
    "    self.date = date\n",
    "    self.temperature = temperature\n",
    "    self.elevation = elevation\n",
    "    self.penguins = penguins\n",
    "    self.precipitation = precipitation"
   ]
  },
  {
   "cell_type": "code",
   "execution_count": null,
   "metadata": {},
   "outputs": [],
   "source": [
    "class BigCat:\n",
    "  genus = \"panthera\"\n",
    "  def __init__(self, species, common_name, habitat):\n",
    "    self.species = species\n",
    "    self.common_name = common_name\n",
    "    self.habitat = habitat"
   ]
  },
  {
   "cell_type": "code",
   "execution_count": null,
   "metadata": {},
   "outputs": [],
   "source": []
  },
  {
   "cell_type": "code",
   "execution_count": null,
   "metadata": {},
   "outputs": [],
   "source": [
    "class CelestialBody:\n",
    "  \"\"\"Represents a celestial body\"\"\"\n",
    "  def __init__(self, name, diameter, distance, moons):\n",
    "    self.name = name\n",
    "    self.diameter = diameter\n",
    "    self.distance = distance\n",
    "    self.moons = moons\n",
    "    \n",
    "  def compared_to_earth(self):\n",
    "    \"\"\"Determines the size of a celestial\n",
    "    body relative to Earth using diameter\"\"\"\n",
    "    earth = 12756.3\n",
    "    relative_size = self.diameter / earth\n",
    "    return relative_size\n",
    "\n",
    "#####\n",
    "\n",
    "planet = CelestialBody(\"Jupiter\", 142984, 778360000, 79)\n",
    "print(compared_to_earth(planet))"
   ]
  },
  {
   "cell_type": "code",
   "execution_count": null,
   "metadata": {},
   "outputs": [],
   "source": [
    "class CelestialBody:\n",
    "  \"\"\"Represents a celestial body\"\"\"\n",
    "  def __init__(self, name, diameter, distance, moons):\n",
    "    self.name = name\n",
    "    self.diameter = diameter\n",
    "    self.distance = distance\n",
    "    self.moons = moons\n",
    "    \n",
    "  @staticmethod\n",
    "  def closer_to_sun(body1, body2):\n",
    "    \"\"\"Returns the name of the body\n",
    "    that is closest to the sun\"\"\"\n",
    "    if body1.distance < body2.distance:\n",
    "        return body1.name\n",
    "    else:\n",
    "        return body2.name\n",
    "\n",
    "mercury = CelestialBody(\"Mercury\", 4879.4, 57909000, 0)\n",
    "venus = CelestialBody(\"Venus\", 12103.6, 108160000, 0)"
   ]
  },
  {
   "cell_type": "code",
   "execution_count": null,
   "metadata": {},
   "outputs": [],
   "source": [
    "class CelestialBody:\n",
    "  \"\"\"Represents a celestial body\"\"\"\n",
    "  def __init__(self, name, diameter, distance, moons):\n",
    "    self.name = name\n",
    "    self.diameter = diameter\n",
    "    self.distance = distance\n",
    "    self.moons = moons\n",
    "\n",
    "\n",
    "  @classmethod\n",
    "  def make_earth(cls):\n",
    "    return CelestialBody(\"Earth\", 12756.3, 149600000, 1)"
   ]
  },
  {
   "cell_type": "code",
   "execution_count": null,
   "metadata": {},
   "outputs": [],
   "source": [
    "class Library:\n",
    "  \"\"\"List of available books and list of books on loan\"\"\"\n",
    "  def __init__(self):\n",
    "    self.available = []\n",
    "    self.on_loan = []\n",
    "    \n",
    "  def add_books(self, books):\n",
    "    \"\"\"Add each book to the list of available books\"\"\"\n",
    "    for book in books:\n",
    "        self.available.append(book)\n",
    "\n",
    "  def borrow_book(self, book):\n",
    "    \"\"\"Remove book from available list and add to on loan list\"\"\"\n",
    "    self.available.remove(book)\n",
    "    self.on_loan.append(book)\n",
    "\n",
    "  def return_book(self, book):\n",
    "    \"\"\"Remove book from on loan list and add to availabe list\"\"\"\n",
    "    self.on_loan.remove(book)\n",
    "    self.available.append(book)\n",
    "    "
   ]
  },
  {
   "cell_type": "code",
   "execution_count": null,
   "metadata": {},
   "outputs": [],
   "source": [
    "class Subway:\n",
    "  fare = 2.4\n",
    "  def __init__(self):\n",
    "    self.stops = [\"Alewife\", \"Davis\", \"Porter\", \"Harvard\", \"Central\", \"Kendall\"]\n",
    "    self.current_stop= \"Alewife\"\n",
    "    self.direction = \"south\"\n",
    "    self.passengers = 0\n",
    "    self.total_fares = 0\n",
    "    \n",
    "  @classmethod\n",
    "  def change_fare(cls, new_fare):\n",
    "    \"\"\"Change fare for all instances of Subway class\"\"\"\n",
    "    Subway.fare = new_fare\n",
    "    \n",
    "  def board(self, new_passengers):\n",
    "    \"\"\"Adds the number of people boarding the subway.\n",
    "    Also adds to total_fares for the new passengers\"\"\"\n",
    "    self.passengers += new_passengers\n",
    "    self.total_fares += new_passengers * Subway.fare\n",
    "    \n",
    "  def disembark(self, passengers_leaving):\n",
    "    \"\"\"Subtracts the number of people exiting the subway\"\"\"\n",
    "    if passengers_leaving > self.passengers:\n",
    "        self.passengers = 0\n",
    "    else:\n",
    "        self.passengers -= passengers_leaving\n",
    "    \n",
    "  def advance(self):\n",
    "    \"\"\"Advances the subway to the next stop\"\"\"\n",
    "    current_index = self.stops.index(self.current_stop)\n",
    "    if self.direction == \"south\":\n",
    "        if self.current_stop == \"Kendall\":\n",
    "            self.current_stop = \"Central\"\n",
    "            self.direction = \"north\"\n",
    "        else:\n",
    "            self.current_stop = self.stops[current_index + 1]\n",
    "    else:\n",
    "        if self.current_stop == \"Alewife\":\n",
    "            self.current_stop = \"Davis\"\n",
    "            self.direction = \"south\"\n",
    "        else:\n",
    "            self.current_stop = self.stops[current_index - 1]\n",
    "  def distance(self, desired_stop):\n",
    "    \"\"\"Returns the number of stops between the\n",
    "    current location and the desired stop\"\"\"\n",
    "    current_index = self.stops.index(self.current_stop)\n",
    "    desired_index = self.stops.index(desired_stop)\n",
    "    return abs(current_index - desired_index)"
   ]
  }
 ],
 "metadata": {
  "kernelspec": {
   "display_name": "Python 3",
   "language": "python",
   "name": "python3"
  },
  "language_info": {
   "codemirror_mode": {
    "name": "ipython",
    "version": 3
   },
   "file_extension": ".py",
   "mimetype": "text/x-python",
   "name": "python",
   "nbconvert_exporter": "python",
   "pygments_lexer": "ipython3",
   "version": "3.8.5"
  }
 },
 "nbformat": 4,
 "nbformat_minor": 4
}
