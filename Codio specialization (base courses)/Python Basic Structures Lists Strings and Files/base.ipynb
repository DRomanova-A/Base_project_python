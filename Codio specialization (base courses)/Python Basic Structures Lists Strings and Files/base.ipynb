{
 "cells": [
  {
   "cell_type": "code",
   "execution_count": null,
   "metadata": {},
   "outputs": [],
   "source": [
    "import sys\n",
    "\n",
    "numbers = sys.argv[1:]\n",
    "for i in range(len(numbers)):\n",
    "  numbers[i] = int(numbers[i])\n",
    "\n",
    "for number in numbers:\n",
    "    if number > 10:\n",
    "        numbers[numbers.index(number)] = '*'\n",
    "\n",
    "print(numbers)"
   ]
  },
  {
   "cell_type": "code",
   "execution_count": null,
   "metadata": {},
   "outputs": [],
   "source": [
    "my_list = sys.argv[1:]\n",
    "\n",
    "if len(my_list) < 5:\n",
    "  print(my_list * 3)\n",
    "else:\n",
    "  print(my_list)"
   ]
  },
  {
   "cell_type": "code",
   "execution_count": null,
   "metadata": {},
   "outputs": [],
   "source": [
    "strings = sys.argv[1:]\n",
    "\n",
    "strings.sort()\n",
    "print(strings.pop(0))\n",
    "\n",
    "print(min(strings))"
   ]
  },
  {
   "cell_type": "code",
   "execution_count": null,
   "metadata": {},
   "outputs": [],
   "source": [
    "numbers = sys.argv[1:]\n",
    "for i in range(len(numbers)):\n",
    "  numbers[i] = int(numbers[i])\n",
    "\n",
    "for i in range(2):\n",
    "  new_number = numbers[-1] + 1\n",
    "  numbers.append(new_number)\n",
    "print(numbers)"
   ]
  },
  {
   "cell_type": "code",
   "execution_count": null,
   "metadata": {},
   "outputs": [],
   "source": [
    "number = int(sys.argv[1])\n",
    "data = [[0 for i in range(number)] for j in range(number)]\n",
    "\n",
    "for row in range(number):\n",
    "  for column in range(number):\n",
    "    if row == column:\n",
    "      data[row][column] = 1\n",
    "    print(f\"{data[row][column]} \", end=\"\")\n",
    "  print()"
   ]
  },
  {
   "cell_type": "code",
   "execution_count": null,
   "metadata": {},
   "outputs": [],
   "source": []
  },
  {
   "cell_type": "code",
   "execution_count": null,
   "metadata": {},
   "outputs": [],
   "source": [
    "txt = input()\n",
    "first = txt[0]\n",
    "last = txt[-1]\n",
    "print(\"{} is the first character and {} is the last character\".format(first, last))"
   ]
  },
  {
   "cell_type": "code",
   "execution_count": null,
   "metadata": {},
   "outputs": [],
   "source": [
    "txt = input()\n",
    "for i in range(len(txt)):\n",
    "    print(txt * len(txt))"
   ]
  },
  {
   "cell_type": "code",
   "execution_count": null,
   "metadata": {},
   "outputs": [],
   "source": [
    "txt = input()\n",
    "second_string = \"\"\n",
    "for char in txt:\n",
    "    if char.islower():\n",
    "        second_string += \"l\"\n",
    "    elif char.isupper():\n",
    "        second_string += \"u\"\n",
    "    else:\n",
    "        second_string += \"-\"\n",
    "\n",
    "print(second_string)"
   ]
  },
  {
   "cell_type": "code",
   "execution_count": null,
   "metadata": {},
   "outputs": [],
   "source": [
    "txt = input()\n",
    "midpoint = len(txt) // 2\n",
    "first_half = txt[:midpoint]\n",
    "second_half = txt[midpoint:]\n",
    "print(first_half)\n",
    "print(second_half)"
   ]
  },
  {
   "cell_type": "code",
   "execution_count": null,
   "metadata": {},
   "outputs": [],
   "source": [
    "txt = input()\n",
    "length = len(txt)\n",
    "swapped_string = \"\"\n",
    "\n",
    "for i in range(0, length - 1, 2):\n",
    "    swapped_string += txt[i + 1]\n",
    "    swapped_string += txt[i]\n",
    "\n",
    "print(swapped_string)\n",
    "\n",
    "txt = input()\n",
    "length = len(txt)\n",
    "swapped_string = \"\"\n",
    "\n",
    "for i in range(0, length - 1, 2):\n",
    "    swapped_string += txt[i + 1]\n",
    "    swapped_string += txt[i]\n",
    "\n",
    "print(swapped_string)"
   ]
  },
  {
   "cell_type": "code",
   "execution_count": null,
   "metadata": {},
   "outputs": [],
   "source": []
  },
  {
   "cell_type": "code",
   "execution_count": null,
   "metadata": {},
   "outputs": [],
   "source": [
    "test_file = sys.argv[1]\n",
    "\n",
    "line_count = 0\n",
    "char_count = 0\n",
    "\n",
    "with open(test_file, \"r\") as input_file:\n",
    "    line = input_file.readline()\n",
    "    while line != \"\":\n",
    "        line_count += 1\n",
    "        char_count += len(line)\n",
    "        line = input_file.readline()\n",
    "\n",
    "print(\"{} lines\".format(line_count))\n",
    "print(\"{} characters\".format(char_count))"
   ]
  },
  {
   "cell_type": "code",
   "execution_count": null,
   "metadata": {},
   "outputs": [],
   "source": [
    "import sys, csv\n",
    "\n",
    "test_file = sys.argv[1]\n",
    "\n",
    "total1 = 0\n",
    "total2 = 0\n",
    "total3 = 0\n",
    "total4 = 0\n",
    "row_count = 0\n",
    "\n",
    "with open(test_file, \"r\") as input_file:\n",
    "    reader = csv.reader(input_file)\n",
    "    for num1, num2, num3, num4 in reader:\n",
    "        row_count += 1\n",
    "        total1 += int(num1)\n",
    "        total2 += int(num2)\n",
    "        total3 += int(num3)\n",
    "        total4 += int(num4)\n",
    "    print(\"{} {} {} {}\".format(total1/row_count, total2/row_count, total3/row_count, total4/row_count))\n",
    "    "
   ]
  },
  {
   "cell_type": "code",
   "execution_count": null,
   "metadata": {},
   "outputs": [],
   "source": [
    "import sys\n",
    "\n",
    "test_file = sys.argv[1]\n",
    "\n",
    "with open(test_file, \"r\") as input_file:\n",
    "    lines = input_file.readlines()\n",
    "    lines.reverse()\n",
    "    for line in lines:\n",
    "        print(line)"
   ]
  },
  {
   "cell_type": "code",
   "execution_count": null,
   "metadata": {},
   "outputs": [],
   "source": [
    "import sys, csv\n",
    "\n",
    "test_file = sys.argv[1]\n",
    "oldest_age = 0\n",
    "oldest_name = \"\"\n",
    "\n",
    "with open(test_file, \"r\") as input_file:\n",
    "    reader = csv.reader(input_file, delimiter=\"\\t\")\n",
    "    next(reader)\n",
    "    for name, age, career in reader:\n",
    "        if int(age) > oldest_age:\n",
    "            oldest_age = int(age)\n",
    "            oldest_name = name\n",
    "            \n",
    "print(\"The oldest person is {}.\".format(oldest_name))"
   ]
  },
  {
   "cell_type": "code",
   "execution_count": null,
   "metadata": {},
   "outputs": [],
   "source": [
    "import sys, csv\n",
    "\n",
    "test_file = sys.argv[1]\n",
    "cities = []\n",
    "\n",
    "with open(test_file, \"r\") as input_file:\n",
    "    reader = csv.reader(input_file)\n",
    "    next(reader)\n",
    "    for city, country, latitude, longitude in reader:\n",
    "        if int(latitude) < 0:\n",
    "            cities.append(city)\n",
    "            \n",
    "print(\"The following cities are in the Southern Hemisphere: \", end=\"\")\n",
    "for city in cities:\n",
    "    if city == cities[-1]:\n",
    "        print(city + \".\")\n",
    "    else:\n",
    "        print(city, end=\", \")"
   ]
  }
 ],
 "metadata": {
  "kernelspec": {
   "display_name": "Python 3",
   "language": "python",
   "name": "python3"
  },
  "language_info": {
   "codemirror_mode": {
    "name": "ipython",
    "version": 3
   },
   "file_extension": ".py",
   "mimetype": "text/x-python",
   "name": "python",
   "nbconvert_exporter": "python",
   "pygments_lexer": "ipython3",
   "version": "3.8.5"
  }
 },
 "nbformat": 4,
 "nbformat_minor": 4
}
