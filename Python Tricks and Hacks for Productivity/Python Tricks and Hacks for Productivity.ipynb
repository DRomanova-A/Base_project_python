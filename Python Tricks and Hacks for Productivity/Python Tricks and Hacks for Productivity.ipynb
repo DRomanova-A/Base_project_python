{
 "cells": [
  {
   "cell_type": "markdown",
   "metadata": {},
   "source": [
    "# List and dictionary comprehensions\n"
   ]
  },
  {
   "cell_type": "markdown",
   "metadata": {},
   "source": [
    "Get the square of every number"
   ]
  },
  {
   "cell_type": "code",
   "execution_count": 1,
   "metadata": {},
   "outputs": [
    {
     "name": "stdout",
     "output_type": "stream",
     "text": [
      "[1, 4, 9, 16]\n"
     ]
    }
   ],
   "source": [
    "X = [1, 2, 3, 4]\n",
    "\n",
    "new_X = []\n",
    "for x in X:\n",
    "    new_X.append(x ** 2)\n",
    "print(new_X)"
   ]
  },
  {
   "cell_type": "markdown",
   "metadata": {},
   "source": [
    "Get only the odd numbers"
   ]
  },
  {
   "cell_type": "code",
   "execution_count": 2,
   "metadata": {},
   "outputs": [
    {
     "name": "stdout",
     "output_type": "stream",
     "text": [
      "[2, 4]\n"
     ]
    }
   ],
   "source": [
    "X = [1, 2, 3, 4]\n",
    "\n",
    "new_X = []\n",
    "for x in X:\n",
    "    is_odd = ((x % 2) == 0)\n",
    "    if is_odd:\n",
    "        new_X.append(x)\n",
    "print(new_X)"
   ]
  },
  {
   "cell_type": "markdown",
   "metadata": {},
   "source": [
    "Get the square of the odd numbers"
   ]
  },
  {
   "cell_type": "code",
   "execution_count": 4,
   "metadata": {},
   "outputs": [
    {
     "name": "stdout",
     "output_type": "stream",
     "text": [
      "[4, 16, 36]\n"
     ]
    }
   ],
   "source": [
    "X = [1, 2, 3, 4, 5, 6, 7]\n",
    "\n",
    "new_X = []\n",
    "for x in X:\n",
    "    is_odd = ((x % 2) == 0)\n",
    "    if is_odd:\n",
    "        new_X.append(x ** 2)\n",
    "print(new_X)"
   ]
  },
  {
   "cell_type": "markdown",
   "metadata": {},
   "source": [
    "# Defaultdict and namedtuple"
   ]
  },
  {
   "cell_type": "markdown",
   "metadata": {},
   "source": [
    "Put deposits into the account balances"
   ]
  },
  {
   "cell_type": "code",
   "execution_count": 5,
   "metadata": {},
   "outputs": [
    {
     "name": "stdout",
     "output_type": "stream",
     "text": [
      "{'Jonathan': 5.98, 'Markus': 1.7799999999999998}\n"
     ]
    }
   ],
   "source": [
    "account_balances = {'Jonathan': 5.49,\n",
    "                    'Markus': 1.39}\n",
    "\n",
    "deposits = {'Jonathan': 0.49,\n",
    "            'Markus': 0.39}\n",
    "\n",
    "for account, deposit in deposits.items():\n",
    "    account_balances[account] += deposit\n",
    "print(account_balances)"
   ]
  },
  {
   "cell_type": "markdown",
   "metadata": {},
   "source": [
    "# Pythonic set and operations"
   ]
  },
  {
   "cell_type": "code",
   "execution_count": 6,
   "metadata": {},
   "outputs": [
    {
     "name": "stdout",
     "output_type": "stream",
     "text": [
      "['india', 'bangladesh', 'pakistan', 'brazil', 'egypt']\n"
     ]
    }
   ],
   "source": [
    "available_countries = ['india', 'bangladesh', 'pakistan', 'brazil']\n",
    "\n",
    "forbidden_countries = ['united_states', 'china', 'europe']\n",
    "\n",
    "new_countries = ['egypt', 'china', 'india']\n",
    "\n",
    "updated_countries = available_countries.copy()\n",
    "\n",
    "for country in new_countries:\n",
    "    if country not in available_countries:\n",
    "        if country not in forbidden_countries:\n",
    "            updated_countries.append(country)\n",
    "print(updated_countries)"
   ]
  },
  {
   "cell_type": "markdown",
   "metadata": {},
   "source": [
    "# Type hinting"
   ]
  },
  {
   "cell_type": "code",
   "execution_count": 7,
   "metadata": {},
   "outputs": [],
   "source": [
    "def function(param_1, param_2, param_3):\n",
    "    var_1 = param_1 - param_2\n",
    "    var_2 = param_3 & param_2\n",
    "    var_3 = var_2 | var_1\n",
    "    return var_3"
   ]
  },
  {
   "cell_type": "code",
   "execution_count": 8,
   "metadata": {},
   "outputs": [
    {
     "data": {
      "text/plain": [
       "{1, 2, 5}"
      ]
     },
     "execution_count": 8,
     "metadata": {},
     "output_type": "execute_result"
    }
   ],
   "source": [
    "a = {1, 2, 3}\n",
    "b = {3, 4, 5}\n",
    "c = {5, 6, 7}\n",
    "r = function(a, b, c)\n",
    "r"
   ]
  },
  {
   "cell_type": "markdown",
   "metadata": {},
   "source": [
    "# Wrangling with zip and starred expressions"
   ]
  },
  {
   "cell_type": "code",
   "execution_count": 9,
   "metadata": {},
   "outputs": [],
   "source": [
    "from typing import NamedTuple\n",
    "\n",
    "class Record(NamedTuple):\n",
    "    name: str\n",
    "    value: float"
   ]
  },
  {
   "cell_type": "code",
   "execution_count": 10,
   "metadata": {},
   "outputs": [
    {
     "name": "stdout",
     "output_type": "stream",
     "text": [
      "[Record(name='Pinchai', value=10), Record(name='Lula', value=13), Record(name='Obama', value=20)]\n"
     ]
    }
   ],
   "source": [
    "names = ['Pinchai', 'Lula', 'Obama']\n",
    "values = [10, 13, 20]\n",
    "\n",
    "records = []\n",
    "for i, name in enumerate(names):\n",
    "    value = values[i]\n",
    "    record = Record(name=name, value=value)\n",
    "    records.append(record)\n",
    "    \n",
    "print(records)"
   ]
  },
  {
   "cell_type": "markdown",
   "metadata": {},
   "source": [
    "# Multiprocessing and progress bars"
   ]
  },
  {
   "cell_type": "code",
   "execution_count": 11,
   "metadata": {},
   "outputs": [
    {
     "name": "stdout",
     "output_type": "stream",
     "text": [
      "done!\n"
     ]
    }
   ],
   "source": [
    "N = int(5e6) # this is 5 million\n",
    "a = 3.8\n",
    "\n",
    "def logistic_map(a: float,\n",
    "                 x: float) -> float:\n",
    "    return a * x * (1 - x)\n",
    "\n",
    "x = 0.9\n",
    "for i in range(N):\n",
    "    x = logistic_map(a, x)\n",
    "print(\"done!\")"
   ]
  },
  {
   "cell_type": "markdown",
   "metadata": {},
   "source": [
    "# String formatting with .format and f-strings"
   ]
  },
  {
   "cell_type": "code",
   "execution_count": 12,
   "metadata": {},
   "outputs": [
    {
     "name": "stdout",
     "output_type": "stream",
     "text": [
      "Hi there!\n",
      "I'm learning how to format texts through task 7\n"
     ]
    }
   ],
   "source": [
    "task_no = 7\n",
    "text = \"Hi there!\"\n",
    "text += \"\\n\"\n",
    "text += \"I'm learning how to format texts\"\n",
    "text += \" through task \"\n",
    "text += str(task_no)\n",
    "print(text)"
   ]
  },
  {
   "cell_type": "markdown",
   "metadata": {},
   "source": [
    "## Thanks!"
   ]
  }
 ],
 "metadata": {
  "kernelspec": {
   "display_name": "Python 3",
   "language": "python",
   "name": "python3"
  },
  "language_info": {
   "codemirror_mode": {
    "name": "ipython",
    "version": 3
   },
   "file_extension": ".py",
   "mimetype": "text/x-python",
   "name": "python",
   "nbconvert_exporter": "python",
   "pygments_lexer": "ipython3",
   "version": "3.8.5"
  }
 },
 "nbformat": 4,
 "nbformat_minor": 4
}
